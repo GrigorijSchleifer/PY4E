{
 "cells": [
  {
   "cell_type": "code",
   "execution_count": 1,
   "metadata": {},
   "outputs": [],
   "source": [
    "lst = [\n",
    "    'X-DSPAM-Confidence:0.8475', \n",
    "    'X-DSPAM-Confidence:0.9867', \n",
    "    'X-DSPAM-Confidence:0.2872', \n",
    "    'X-DSPAM-Confidence:0.0282'\n",
    "]"
   ]
  },
  {
   "cell_type": "code",
   "execution_count": 7,
   "metadata": {},
   "outputs": [
    {
     "name": "stdout",
     "output_type": "stream",
     "text": [
      "[]\n",
      "[]\n",
      "[]\n",
      "[]\n"
     ]
    }
   ],
   "source": [
    "for item in range(0, len(lst)):\n",
    "    print(lst[:lst[item].find(':')])"
   ]
  },
  {
   "cell_type": "code",
   "execution_count": null,
   "metadata": {},
   "outputs": [],
   "source": []
  }
 ],
 "metadata": {
  "kernelspec": {
   "display_name": "Python 3.7.0 64-bit ('3.7.0')",
   "language": "python",
   "name": "python3"
  },
  "language_info": {
   "codemirror_mode": {
    "name": "ipython",
    "version": 3
   },
   "file_extension": ".py",
   "mimetype": "text/x-python",
   "name": "python",
   "nbconvert_exporter": "python",
   "pygments_lexer": "ipython3",
   "version": "3.7.0"
  },
  "orig_nbformat": 4,
  "vscode": {
   "interpreter": {
    "hash": "6c9434ec5f4f2daa1843b825de65e6a4f399ee6880a4fad17d5a79d95a134626"
   }
  }
 },
 "nbformat": 4,
 "nbformat_minor": 2
}
