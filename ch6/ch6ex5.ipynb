{
 "cells": [
  {
   "cell_type": "markdown",
   "metadata": {},
   "source": [
    "### Open the file to that we want to use to create a new edited file"
   ]
  },
  {
   "cell_type": "code",
   "execution_count": 1,
   "metadata": {},
   "outputs": [
    {
     "name": "stdout",
     "output_type": "stream",
     "text": [
      "No such file found\n"
     ]
    }
   ],
   "source": [
    "try:\n",
    "    with open('text_to_modify.txt', 'r') as file_to_read:\n",
    "        lines = file_to_read.read().split('\\n')\n",
    "except FileNotFoundError:\n",
    "    print(\"No such file found\")\n"
   ]
  },
  {
   "cell_type": "code",
   "execution_count": 37,
   "metadata": {},
   "outputs": [],
   "source": [
    "\n",
    "with open('file_to_write.txt', 'w') as file_to_write: \n",
    "    for line_number in range(1, len(lines)):\n",
    "        file_to_write.write(f'For {lines[line_number].split(\":\")[0]} we have rounded: {lines[line_number].split(\":\")[1]} \\n')\n"
   ]
  },
  {
   "cell_type": "code",
   "execution_count": null,
   "metadata": {},
   "outputs": [],
   "source": []
  }
 ],
 "metadata": {
  "kernelspec": {
   "display_name": "Python 3.7.0 64-bit ('3.7.0')",
   "language": "python",
   "name": "python3"
  },
  "language_info": {
   "codemirror_mode": {
    "name": "ipython",
    "version": 3
   },
   "file_extension": ".py",
   "mimetype": "text/x-python",
   "name": "python",
   "nbconvert_exporter": "python",
   "pygments_lexer": "ipython3",
   "version": "3.7.0"
  },
  "orig_nbformat": 4,
  "vscode": {
   "interpreter": {
    "hash": "6c9434ec5f4f2daa1843b825de65e6a4f399ee6880a4fad17d5a79d95a134626"
   }
  }
 },
 "nbformat": 4,
 "nbformat_minor": 2
}
