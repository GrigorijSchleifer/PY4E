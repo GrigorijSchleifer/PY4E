{
 "cells": [
  {
   "cell_type": "code",
   "execution_count": null,
   "metadata": {},
   "outputs": [
    {
     "name": "stdout",
     "output_type": "stream",
     "text": [
      "7 is not on the list\n"
     ]
    }
   ],
   "source": [
    "# Rewrite your pay computation with time-and-a-half for over time and \n",
    "# create a function called computepay which takes two parameters\n",
    "# (hours and rate).\n",
    "\n",
    "def working_pay_alt_intput() -> tuple:\n",
    "    \"\"\" A method where first input result is not going to be deleted \n",
    "    if second input catches a ValueError exception\n",
    "    Args:\n",
    "        None\n",
    "    Return:\n",
    "        tuple (int, int): hours, pay per hour\n",
    "    \"\"\"\n",
    "    pay_for = [\"Hours\", \"Pay\"]\n",
    "    users_input = [0, 0]\n",
    "\n",
    "    for place_input in range(len(users_input)):\n",
    "        while True:\n",
    "            try:\n",
    "                user_input = int(input(f\"{pay_for[place_input]}: \"))\n",
    "                break\n",
    "            except ValueError:\n",
    "                print(\"Only ingegers\")\n",
    "        users_input[place_input] = user_input\n",
    "    # should be unpacked into hour and pay\n",
    "    return users_input \n",
    "\n",
    "# how many hours over normal shift\n",
    "def over_time(hours: int) -> int:\n",
    "    regular_shift = 8\n",
    "    return abs(regular_shift - hours)\n",
    "\n",
    "# return time was incorrect \n",
    "def computepay(hours: int, rate: int, over_time: int) -> int:\n",
    "    \"\"\" Product of hours worked * rate + over time hours (coefficient of 1.5)\n",
    "    Args:\n",
    "        hours {int}: hours worked\n",
    "        rate {int}: rate per hour\n",
    "        over_time {int}: takes the over_time function to return hours worked over time\n",
    "    Return:\n",
    "         \n",
    "    \"\"\"\n",
    "    return f\"{((hours - over_time) * rate) + (over_time * (rate * 1.5))}\"\n",
    "\n",
    "# unpacking tuple from the working_pay_alt_intput method\n",
    "\n",
    "hours, rate = working_pay_alt_intput()\n",
    "print(computepay(hours, rate, over_time(hours)))\n"
   ]
  },
  {
   "cell_type": "code",
   "execution_count": null,
   "metadata": {},
   "outputs": [],
   "source": [
    "def enter_restr_byage() -> chr:\n",
    "    \"\"\"Ask user for age and print message with age group and if allowed to enter\n",
    "    Args:\n",
    "        No arguments\n",
    "    Return:\n",
    "        Character\n",
    "        \"\"\"\n",
    "\n",
    "    # dict with ages the user will be assigned to\n",
    "    age_group = {\n",
    "        (0, 18): \"Young\",\n",
    "        (19, 65): \"Adults\", \n",
    "        (66, 100): \"Oldies\"\n",
    "    }\n",
    "    while True:\n",
    "        try:\n",
    "            age_user = int(input(\"What is you age? \\n\"))\n",
    "            if age_user < 0 and age_user > 100:\n",
    "                print(f\"Your age is {age_user} and is not allowed\")\n",
    "            break\n",
    "        except ValueError:\n",
    "            print(\"Only integers are allowed\")\n",
    "\n",
    "    # loop ove3r age groups and find corresponding group wher the user is located\n",
    "    for age, group in age_group.items():\n",
    "        if age[0] <= age_user <= age[1]:\n",
    "            print(f\"You are in {group} group\")"
   ]
  }
 ],
 "metadata": {
  "kernelspec": {
   "display_name": "Python 3.9.13 ('pfe')",
   "language": "python",
   "name": "python3"
  },
  "language_info": {
   "codemirror_mode": {
    "name": "ipython",
    "version": 3
   },
   "file_extension": ".py",
   "mimetype": "text/x-python",
   "name": "python",
   "nbconvert_exporter": "python",
   "pygments_lexer": "ipython3",
   "version": "3.9.18"
  },
  "orig_nbformat": 4,
  "vscode": {
   "interpreter": {
    "hash": "ca3fe684c709609a101a86d3c1b128daea1b39f434c98fb02bc126e7e1331602"
   }
  }
 },
 "nbformat": 4,
 "nbformat_minor": 2
}
