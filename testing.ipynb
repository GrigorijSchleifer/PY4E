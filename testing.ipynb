{
 "cells": [
  {
   "cell_type": "code",
   "execution_count": 6,
   "metadata": {},
   "outputs": [],
   "source": [
    "testdict = {\n",
    "    (1, 2, 3, 4): \"A\",\n",
    "    (5, 6, 7, 8): \"B\"\n",
    "}"
   ]
  },
  {
   "cell_type": "code",
   "execution_count": 10,
   "metadata": {},
   "outputs": [
    {
     "name": "stdout",
     "output_type": "stream",
     "text": [
      "33\n"
     ]
    }
   ],
   "source": [
    "usr_inp = input(\"Whats your age?\")\n",
    "print(usr_inp)"
   ]
  },
  {
   "cell_type": "code",
   "execution_count": 8,
   "metadata": {},
   "outputs": [
    {
     "name": "stdout",
     "output_type": "stream",
     "text": [
      "3\n",
      "A\n",
      "7\n",
      "B\n"
     ]
    }
   ],
   "source": [
    "for item, key in testdict.items():\n",
    "    print(item[2])\n",
    "    print(key)\n"
   ]
  },
  {
   "cell_type": "code",
   "execution_count": null,
   "metadata": {},
   "outputs": [],
   "source": [
    "def enter_restr_byage() -> chr:\n",
    "    \"\"\"Ask user for age and print message in what age group and if allowed to enter\n",
    "    Args:\n",
    "        No arguments\n",
    "    Return:\n",
    "        Character\"\"\"\n",
    "\n",
    "    # dict with ages the user will be assigned to\n",
    "    age_group = {\n",
    "        (0, 18): \"Young\",\n",
    "        (19, 65): \"Adults\", \n",
    "        (66, 100): \"Oldies\"\n",
    "    }\n",
    "    while True:\n",
    "        try:\n",
    "            age_user = int(input(\"What is you age? \\n\"))\n",
    "            break\n",
    "        except ValueError:\n",
    "            print(\"Only integers are allowed\")\n",
    "\n",
    "    # loop ove3r age groups and find corresponding group wher the user is located\n",
    "    for age, group in age_group.items():\n",
    "        if age[0] <= age_user <= age[1]:\n",
    "            print(f\"You are in {group} group\")"
   ]
  }
 ],
 "metadata": {
  "kernelspec": {
   "display_name": "Python 3.7.0 64-bit ('3.7.0')",
   "language": "python",
   "name": "python3"
  },
  "language_info": {
   "codemirror_mode": {
    "name": "ipython",
    "version": 3
   },
   "file_extension": ".py",
   "mimetype": "text/x-python",
   "name": "python",
   "nbconvert_exporter": "python",
   "pygments_lexer": "ipython3",
   "version": "3.7.0"
  },
  "orig_nbformat": 4,
  "vscode": {
   "interpreter": {
    "hash": "6c9434ec5f4f2daa1843b825de65e6a4f399ee6880a4fad17d5a79d95a134626"
   }
  }
 },
 "nbformat": 4,
 "nbformat_minor": 2
}
