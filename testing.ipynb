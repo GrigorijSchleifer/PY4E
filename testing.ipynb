{
 "cells": [
  {
   "cell_type": "code",
   "execution_count": 8,
   "metadata": {},
   "outputs": [
    {
     "name": "stdout",
     "output_type": "stream",
     "text": [
      "7 is not on the list\n"
     ]
    }
   ],
   "source": [
    "names = [\"Anna\", \"Gregor\"]\n",
    "\n",
    "def user_in_group(group: list) -> chr:\n",
    "    while True:\n",
    "        try:\n",
    "            name = str(input(\"Name \\n\"))\n",
    "            break\n",
    "        except ValueError:\n",
    "            print(\"Must be a character\")\n",
    "    return name\n",
    "\n",
    "name = user_in_group(names)\n",
    "\n",
    "if name in names:\n",
    "    print(f\"Hello {name}\")\n",
    "else:\n",
    "    print(f\"{name} is not on the list\")"
   ]
  },
  {
   "cell_type": "code",
   "execution_count": 14,
   "metadata": {},
   "outputs": [],
   "source": [
    "def enter_restr_byage() -> chr:\n",
    "    \"\"\"Ask user for age and print message with age group and if allowed to enter\n",
    "    Args:\n",
    "        No arguments\n",
    "    Return:\n",
    "        Character\n",
    "        \"\"\"\n",
    "\n",
    "    # dict with ages the user will be assigned to\n",
    "    age_group = {\n",
    "        (0, 18): \"Young\",\n",
    "        (19, 65): \"Adults\", \n",
    "        (66, 100): \"Oldies\"\n",
    "    }\n",
    "    while True:\n",
    "        try:\n",
    "            age_user = int(input(\"What is you age? \\n\"))\n",
    "            if age_user < 0 and age_user > 100:\n",
    "                print(f\"Your age is {age_user} and is not allowed\")\n",
    "            break\n",
    "        except ValueError:\n",
    "            print(\"Only integers are allowed\")\n",
    "\n",
    "    # loop ove3r age groups and find corresponding group wher the user is located\n",
    "    for age, group in age_group.items():\n",
    "        if age[0] <= age_user <= age[1]:\n",
    "            print(f\"You are in {group} group\")"
   ]
  },
  {
   "cell_type": "code",
   "execution_count": 16,
   "metadata": {},
   "outputs": [
    {
     "name": "stdout",
     "output_type": "stream",
     "text": [
      "/Users/grigorijschleifer/github/PythonForEverybody\n"
     ]
    }
   ],
   "source": [
    "# read in word data and remove all graphics\n",
    "print(os.getcwd())\n",
    "# location where you are\n",
    "\n",
    "# locations available\n",
    "\n",
    "# uhrzeit als dictionary"
   ]
  },
  {
   "cell_type": "code",
   "execution_count": null,
   "metadata": {},
   "outputs": [],
   "source": []
  }
 ],
 "metadata": {
  "kernelspec": {
   "display_name": "Python 3.9.13 ('pfe')",
   "language": "python",
   "name": "python3"
  },
  "language_info": {
   "codemirror_mode": {
    "name": "ipython",
    "version": 3
   },
   "file_extension": ".py",
   "mimetype": "text/x-python",
   "name": "python",
   "nbconvert_exporter": "python",
   "pygments_lexer": "ipython3",
   "version": "3.9.13"
  },
  "orig_nbformat": 4,
  "vscode": {
   "interpreter": {
    "hash": "ca3fe684c709609a101a86d3c1b128daea1b39f434c98fb02bc126e7e1331602"
   }
  }
 },
 "nbformat": 4,
 "nbformat_minor": 2
}
